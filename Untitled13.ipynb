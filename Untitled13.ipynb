{
  "nbformat": 4,
  "nbformat_minor": 0,
  "metadata": {
    "colab": {
      "name": "Untitled13.ipynb",
      "provenance": [],
      "authorship_tag": "ABX9TyMFvsOLJrI4GKUu9NNnj8+T",
      "include_colab_link": true
    },
    "kernelspec": {
      "name": "python3",
      "display_name": "Python 3"
    }
  },
  "cells": [
    {
      "cell_type": "markdown",
      "metadata": {
        "id": "view-in-github",
        "colab_type": "text"
      },
      "source": [
        "<a href=\"https://colab.research.google.com/github/hemantrk2122/Machine-Learning/blob/main/Untitled13.ipynb\" target=\"_parent\"><img src=\"https://colab.research.google.com/assets/colab-badge.svg\" alt=\"Open In Colab\"/></a>"
      ]
    },
    {
      "cell_type": "code",
      "metadata": {
        "id": "n2CESr9jyTcr"
      },
      "source": [
        "from keras.datasets import mnist\n",
        "from keras.models import Sequential\n",
        "from keras.layers import Dense\n",
        "from keras.utils import np_utils\n",
        "import matplotlib.pyplot as plt\n",
        "import time"
      ],
      "execution_count": null,
      "outputs": []
    },
    {
      "cell_type": "code",
      "metadata": {
        "id": "D_MaQGjSy7Nj",
        "outputId": "e6223d23-af2a-4ed9-9082-199d122b3575",
        "colab": {
          "base_uri": "https://localhost:8080/",
          "height": 88
        }
      },
      "source": [
        "(X_train, y_train), (X_test, y_test) = mnist.load_data()\n",
        "print(type(X_train))\n"
      ],
      "execution_count": null,
      "outputs": [
        {
          "output_type": "stream",
          "text": [
            "Downloading data from https://storage.googleapis.com/tensorflow/tf-keras-datasets/mnist.npz\n",
            "11493376/11490434 [==============================] - 0s 0us/step\n",
            "<class 'numpy.ndarray'>\n"
          ],
          "name": "stdout"
        }
      ]
    },
    {
      "cell_type": "code",
      "metadata": {
        "id": "-19tc_LyzCFG",
        "outputId": "0dddc959-61a5-4e37-8e1e-940aa8db362a",
        "colab": {
          "base_uri": "https://localhost:8080/",
          "height": 567
        }
      },
      "source": [
        "print('Training set: ', X_train.shape)\n",
        "print('Testing set: ',X_test.shape)\n",
        "\n",
        "plt.imshow(X_train[0])\n",
        "plt.show()\n",
        "\n",
        "plt.subplot(221)\n",
        "plt.imshow(X_train[0], cmap=plt.get_cmap('gray'))\n",
        "plt.subplot(222)\n",
        "plt.imshow(X_train[1], cmap=plt.get_cmap('gray'))\n",
        "plt.subplot(223)\n",
        "plt.imshow(X_train[2], cmap=plt.get_cmap('gray'))\n",
        "plt.subplot(224)\n",
        "plt.imshow(X_train[3], cmap=plt.get_cmap('gray'))\n",
        "plt.show()\n",
        "digit = X_train[0]\n",
        "\n",
        "with open('sample_digit01.csv','w') as f:\n",
        "    for i in range(28):\n",
        "        for j in range(28):\n",
        "            f.write(str(digit[i,j])+',')\n",
        "        f.write('\\n')\n",
        "\n",
        "print('Digit Labels: ',y_train[0],y_train[1],y_train[2],y_train[3])\n",
        "# flatten 28*28 images to a 784 vector for each image\n",
        "num_pixels = X_train.shape[1] * X_train.shape[2]\n"
      ],
      "execution_count": null,
      "outputs": [
        {
          "output_type": "stream",
          "text": [
            "Training set:  (60000, 28, 28)\n",
            "Testing set:  (10000, 28, 28)\n"
          ],
          "name": "stdout"
        },
        {
          "output_type": "display_data",
          "data": {
            "image/png": "[encoded data removed]",
            "text/plain": [
              "<Figure size 432x288 with 1 Axes>"
            ]
          },
          "metadata": {
            "tags": [],
            "needs_background": "light"
          }
        },
        {
          "output_type": "display_data",
          "data": {
            "image/png": "[encoded data removed]",
            "text/plain": [
              "<Figure size 432x288 with 4 Axes>"
            ]
          },
          "metadata": {
            "tags": [],
            "needs_background": "light"
          }
        },
        {
          "output_type": "stream",
          "text": [
            "Digit Labels:  5 0 4 1\n"
          ],
          "name": "stdout"
        }
      ]
    },
    {
      "cell_type": "code",
      "metadata": {
        "id": "1HLp63aUzHpU",
        "outputId": "94c0b469-1bb9-4ec3-fd6e-64683104be58",
        "colab": {
          "base_uri": "https://localhost:8080/",
          "height": 102
        }
      },
      "source": [
        "print('Before',X_train.shape)\n",
        "X_train = X_train.reshape((X_train.shape[0], num_pixels)).astype('float32')\n",
        "X_test = X_test.reshape((X_test.shape[0], num_pixels)).astype('float32')\n",
        "\n",
        "print('After',X_train.shape)\n",
        "# normalize inputs from 0-255 to 0-1\n",
        "X_train = X_train / 255\n",
        "X_test = X_test / 255\n",
        "# one hot encode outputs\n",
        "print('Label value before encoding',y_train[0])\n",
        "y_train = np_utils.to_categorical(y_train)\n",
        "y_test = np_utils.to_categorical(y_test)\n",
        "print('Label value after encoding',y_train[0])\n",
        "num_classes = y_test.shape[1]\n",
        "print('Number of classes: ',num_classes)\n"
      ],
      "execution_count": null,
      "outputs": [
        {
          "output_type": "stream",
          "text": [
            "Before (60000, 28, 28)\n",
            "After (60000, 784)\n",
            "Label value before encoding 5\n",
            "Label value after encoding [0. 0. 0. 0. 0. 1. 0. 0. 0. 0.]\n",
            "Number of classes:  10\n"
          ],
          "name": "stdout"
        }
      ]
    },
    {
      "cell_type": "code",
      "metadata": {
        "id": "42Ik3WB5zQd_",
        "outputId": "e3b2fc6e-4476-41e2-f83a-98fe8d293bba",
        "colab": {
          "base_uri": "https://localhost:8080/",
          "height": 411
        }
      },
      "source": [
        "start_time = time.time()\n",
        "model = Sequential()\n",
        "model.add(Dense(num_pixels, input_dim=num_pixels, activation='relu'))\n",
        "model.add(Dense(num_classes, activation='softmax'))\n",
        "# Compile model\n",
        "model.compile(loss='categorical_crossentropy', optimizer='adam', metrics=['accuracy'])\n",
        "\n",
        "# Fit the model\n",
        "model.fit(X_train, y_train, validation_data=(X_test, y_test), epochs=10, batch_size=200, verbose=1)\n",
        "# Final evaluation of the model\n",
        "scores = model.evaluate(X_test, y_test, verbose=0)\n",
        "print(\"Error: %.2f%%\" % (100-scores[1]*100))\n",
        "end_time = time.time()\n",
        "\n",
        "print('Time Taken: ',(end_time-start_time))"
      ],
      "execution_count": null,
      "outputs": [
        {
          "output_type": "stream",
          "text": [
            "Epoch 1/10\n",
            "300/300 [==============================] - 5s 15ms/step - loss: 0.2768 - accuracy: 0.9221 - val_loss: 0.1385 - val_accuracy: 0.9590\n",
            "Epoch 2/10\n",
            "300/300 [==============================] - 4s 15ms/step - loss: 0.1125 - accuracy: 0.9679 - val_loss: 0.0909 - val_accuracy: 0.9725\n",
            "Epoch 3/10\n",
            "300/300 [==============================] - 4s 15ms/step - loss: 0.0723 - accuracy: 0.9794 - val_loss: 0.0771 - val_accuracy: 0.9750\n",
            "Epoch 4/10\n",
            "300/300 [==============================] - 4s 15ms/step - loss: 0.0519 - accuracy: 0.9852 - val_loss: 0.0722 - val_accuracy: 0.9760\n",
            "Epoch 5/10\n",
            "300/300 [==============================] - 4s 15ms/step - loss: 0.0363 - accuracy: 0.9898 - val_loss: 0.0654 - val_accuracy: 0.9785\n",
            "Epoch 6/10\n",
            "300/300 [==============================] - 4s 15ms/step - loss: 0.0277 - accuracy: 0.9926 - val_loss: 0.0584 - val_accuracy: 0.9819\n",
            "Epoch 7/10\n",
            "300/300 [==============================] - 4s 15ms/step - loss: 0.0199 - accuracy: 0.9949 - val_loss: 0.0593 - val_accuracy: 0.9813\n",
            "Epoch 8/10\n",
            "300/300 [==============================] - 4s 15ms/step - loss: 0.0152 - accuracy: 0.9965 - val_loss: 0.0595 - val_accuracy: 0.9811\n",
            "Epoch 9/10\n",
            "300/300 [==============================] - 4s 15ms/step - loss: 0.0116 - accuracy: 0.9976 - val_loss: 0.0553 - val_accuracy: 0.9833\n",
            "Epoch 10/10\n",
            "300/300 [==============================] - 4s 15ms/step - loss: 0.0089 - accuracy: 0.9981 - val_loss: 0.0596 - val_accuracy: 0.9825\n",
            "Error: 1.75%\n",
            "Time Taken:  46.3101441860199\n"
          ],
          "name": "stdout"
        }
      ]
    },
    {
      "cell_type": "code",
      "metadata": {
        "id": "tG_DV8Qszwtx"
      },
      "source": [
        "from keras.datasets import mnist\n",
        "from keras.models import Sequential\n",
        "from keras.layers import Dense\n",
        "from keras.layers import Dropout\n",
        "from keras.layers import Flatten\n",
        "from keras.layers.convolutional import Conv2D\n",
        "from keras.layers.convolutional import MaxPooling2D\n",
        "from keras.utils import np_utils"
      ],
      "execution_count": null,
      "outputs": []
    },
    {
      "cell_type": "code",
      "metadata": {
        "id": "AW6PmcOWzapl",
        "outputId": "0b6cbfd3-452b-4d1b-afbe-79003a52a487",
        "colab": {
          "base_uri": "https://localhost:8080/",
          "height": 411
        }
      },
      "source": [
        "(X_train, y_train), (X_test, y_test) = mnist.load_data()\n",
        "\n",
        "# reshape to be [samples][width][height][channels]\n",
        "X_train = X_train.reshape((X_train.shape[0], 28, 28, 1)).astype('float32')\n",
        "X_test = X_test.reshape((X_test.shape[0], 28, 28, 1)).astype('float32')\n",
        "\n",
        "# normalize inputs from 0-255 to 0-1\n",
        "X_train = X_train / 255\n",
        "X_test = X_test / 255\n",
        "\n",
        "# one hot encode outputs\n",
        "y_train = np_utils.to_categorical(y_train)\n",
        "y_test = np_utils.to_categorical(y_test)\n",
        "num_classes = y_test.shape[1]\n",
        "\n",
        "# define a simple CNN model\n",
        "start_time = time.time()\n",
        "model = Sequential()\n",
        "model.add(Conv2D(32, (5, 5), input_shape=(28, 28, 1), activation='relu'))\n",
        "model.add(MaxPooling2D())\n",
        "model.add(Dropout(0.2))\n",
        "model.add(Flatten())\n",
        "model.add(Dense(128, activation='relu'))\n",
        "model.add(Dense(num_classes, activation='softmax'))\n",
        "# Compile model\n",
        "model.compile(loss='categorical_crossentropy', optimizer='adam', metrics=['accuracy'])\n",
        "\n",
        "# Fit the model\n",
        "model.fit(X_train, y_train, validation_data=(X_test, y_test), epochs=10, batch_size=200,verbose=1)\n",
        "# Final evaluation of the model\n",
        "scores = model.evaluate(X_test, y_test, verbose=0)\n",
        "print(\"Error: %.2f%%\" % (100-scores[1]*100))\n",
        "end_time = time.time()\n",
        "\n",
        "print('Time Taken: ',(end_time-start_time))\n"
      ],
      "execution_count": null,
      "outputs": [
        {
          "output_type": "stream",
          "text": [
            "Epoch 1/10\n",
            "300/300 [==============================] - 30s 98ms/step - loss: 0.2277 - accuracy: 0.9351 - val_loss: 0.0737 - val_accuracy: 0.9781\n",
            "Epoch 2/10\n",
            "300/300 [==============================] - 29s 98ms/step - loss: 0.0702 - accuracy: 0.9789 - val_loss: 0.0519 - val_accuracy: 0.9845\n",
            "Epoch 3/10\n",
            "300/300 [==============================] - 30s 98ms/step - loss: 0.0507 - accuracy: 0.9840 - val_loss: 0.0411 - val_accuracy: 0.9871\n",
            "Epoch 4/10\n",
            "300/300 [==============================] - 29s 98ms/step - loss: 0.0368 - accuracy: 0.9889 - val_loss: 0.0348 - val_accuracy: 0.9897\n",
            "Epoch 5/10\n",
            "300/300 [==============================] - 29s 98ms/step - loss: 0.0326 - accuracy: 0.9900 - val_loss: 0.0352 - val_accuracy: 0.9884\n",
            "Epoch 6/10\n",
            "300/300 [==============================] - 30s 99ms/step - loss: 0.0259 - accuracy: 0.9920 - val_loss: 0.0303 - val_accuracy: 0.9893\n",
            "Epoch 7/10\n",
            "300/300 [==============================] - 29s 98ms/step - loss: 0.0230 - accuracy: 0.9926 - val_loss: 0.0330 - val_accuracy: 0.9895\n",
            "Epoch 8/10\n",
            "300/300 [==============================] - 29s 98ms/step - loss: 0.0196 - accuracy: 0.9941 - val_loss: 0.0320 - val_accuracy: 0.9899\n",
            "Epoch 9/10\n",
            "300/300 [==============================] - 29s 98ms/step - loss: 0.0152 - accuracy: 0.9951 - val_loss: 0.0358 - val_accuracy: 0.9881\n",
            "Epoch 10/10\n",
            "300/300 [==============================] - 29s 98ms/step - loss: 0.0134 - accuracy: 0.9956 - val_loss: 0.0346 - val_accuracy: 0.9898\n",
            "Error: 1.02%\n",
            "Time Taken:  298.06983518600464\n"
          ],
          "name": "stdout"
        }
      ]
    }
  ]
}