{
  "nbformat": 4,
  "nbformat_minor": 0,
  "metadata": {
    "colab": {
      "name": "Untitled2.ipynb",
      "provenance": [],
      "include_colab_link": true
    },
    "kernelspec": {
      "name": "python3",
      "display_name": "Python 3"
    }
  },
  "cells": [
    {
      "cell_type": "markdown",
      "metadata": {
        "id": "view-in-github",
        "colab_type": "text"
      },
      "source": [
        "<a href=\"https://colab.research.google.com/github/hemantrk2122/Machine-Learning/blob/main/Untitled2.ipynb\" target=\"_parent\"><img src=\"https://colab.research.google.com/assets/colab-badge.svg\" alt=\"Open In Colab\"/></a>"
      ]
    },
    {
      "cell_type": "code",
      "metadata": {
        "id": "8dFtNQ4Q-lq8"
      },
      "source": [
        "# Import and load iris dataset from sklearn\n",
        "from sklearn.datasets import load_iris\n",
        "#Many standard data sets and operations on them like IRIS dataset\n",
        "import numpy as np\n",
        "#for mathe matical operations\n",
        "import keras\n",
        "#many standard deep learning networks\n",
        "np.random.seed(10)\n",
        "\n",
        "iris = load_iris() # iris is a python dictionary with key-value pairs\n"
      ],
      "execution_count": null,
      "outputs": []
    },
    {
      "cell_type": "code",
      "metadata": {
        "id": "LkLLn4cf-1pM",
        "outputId": "656b5c25-7a3c-4d58-8eea-706db9c352aa",
        "colab": {
          "base_uri": "https://localhost:8080/",
          "height": 204
        }
      },
      "source": [
        "print('keys in iris dictionary: ', iris.keys())\n",
        "\n",
        "X = iris['data']\n",
        "print('First 3 entries of X:', '\\n', X[:3])\n",
        "\n",
        "Y = iris['target']\n",
        "print('First 3 entries of Y:', '\\n', Y[:3])\n",
        "\n",
        "names = iris['target_names']\n",
        "print('names:', names)\n",
        "feature_names = iris['feature_names']\n",
        "print('feature_names:', feature_names)\n",
        "print(len(Y))\n",
        "# Track a few sample points\n",
        "isamples = np.random.randint(len(Y), size = (5))\n",
        "print(isamples)"
      ],
      "execution_count": null,
      "outputs": [
        {
          "output_type": "stream",
          "text": [
            "keys in iris dictionary:  dict_keys(['data', 'target', 'target_names', 'DESCR', 'feature_names', 'filename'])\n",
            "First 3 entries of X: \n",
            " [[5.1 3.5 1.4 0.2]\n",
            " [4.9 3.  1.4 0.2]\n",
            " [4.7 3.2 1.3 0.2]]\n",
            "First 3 entries of Y: \n",
            " [0 0 0]\n",
            "names: ['setosa' 'versicolor' 'virginica']\n",
            "feature_names: ['sepal length (cm)', 'sepal width (cm)', 'petal length (cm)', 'petal width (cm)']\n",
            "150\n",
            "[  9 125  15  64 113]\n"
          ],
          "name": "stdout"
        }
      ]
    },
    {
      "cell_type": "code",
      "metadata": {
        "id": "6JCaP4XN_G6J",
        "outputId": "7da71e43-d05e-49a2-e340-bdd6384a1ac7",
        "colab": {
          "base_uri": "https://localhost:8080/",
          "height": 153
        }
      },
      "source": [
        "# Shape of Data\n",
        "print('Shape of X:', X.shape)\n",
        "print('Shape of Y:', Y.shape)\n",
        "print('X - samples:', X[isamples])\n",
        "print('Y- samples:', Y[isamples])"
      ],
      "execution_count": null,
      "outputs": [
        {
          "output_type": "stream",
          "text": [
            "Shape of X: (150, 4)\n",
            "Shape of Y: (150,)\n",
            "X - samples: [[4.9 3.1 1.5 0.1]\n",
            " [7.2 3.2 6.  1.8]\n",
            " [5.7 4.4 1.5 0.4]\n",
            " [5.6 2.9 3.6 1.3]\n",
            " [5.7 2.5 5.  2. ]]\n",
            "Y- samples: [0 2 0 1 2]\n"
          ],
          "name": "stdout"
        }
      ]
    },
    {
      "cell_type": "code",
      "metadata": {
        "id": "WRbs608y_Izd",
        "outputId": "34873ba6-2fe3-490c-bf90-65e901239664",
        "colab": {
          "base_uri": "https://localhost:8080/",
          "height": 204
        }
      },
      "source": [
        "from keras.utils import to_categorical\n",
        "\n",
        "Ny = len(np.unique(Y)) # Ny is number of categories/classes\n",
        "print('Ny: ', Ny)\n",
        "\n",
        "Y = to_categorical(Y[:], num_classes = Ny) # converted to 1-hot\n",
        "\n",
        "print('X - samples:', X[isamples])\n",
        "print('Y- samples:', Y[isamples])"
      ],
      "execution_count": null,
      "outputs": [
        {
          "output_type": "stream",
          "text": [
            "Ny:  3\n",
            "X - samples: [[4.9 3.1 1.5 0.1]\n",
            " [7.2 3.2 6.  1.8]\n",
            " [5.7 4.4 1.5 0.4]\n",
            " [5.6 2.9 3.6 1.3]\n",
            " [5.7 2.5 5.  2. ]]\n",
            "Y- samples: [[1. 0. 0.]\n",
            " [0. 0. 1.]\n",
            " [1. 0. 0.]\n",
            " [0. 1. 0.]\n",
            " [0. 0. 1.]]\n"
          ],
          "name": "stdout"
        }
      ]
    },
    {
      "cell_type": "code",
      "metadata": {
        "id": "rxSyalhN_fQ1",
        "outputId": "d51a45d9-1bf6-4888-dc5f-7d3232d08f43",
        "colab": {
          "base_uri": "https://localhost:8080/",
          "height": 51
        }
      },
      "source": [
        "from sklearn.model_selection import train_test_split\n",
        "from sklearn.metrics import confusion_matrix\n",
        "\n",
        "X_train, X_test, Y_train, Y_test = train_test_split(X, Y, test_size = 0.5, random_state = 1)\n",
        "print('X_train shape:', X_train.shape)\n",
        "print('X_test.shape:', X_test.shape)"
      ],
      "execution_count": null,
      "outputs": [
        {
          "output_type": "stream",
          "text": [
            "X_train shape: (75, 4)\n",
            "X_test.shape: (75, 4)\n"
          ],
          "name": "stdout"
        }
      ]
    },
    {
      "cell_type": "code",
      "metadata": {
        "id": "IgXXJopO_k9l",
        "outputId": "acc7e1df-3caa-4ec6-dffb-b015d6fd883c",
        "colab": {
          "base_uri": "https://localhost:8080/",
          "height": 221
        }
      },
      "source": [
        "from sklearn.preprocessing import StandardScaler\n",
        "\n",
        "scaler = StandardScaler()\n",
        "scaler.fit(X_train) # Computes the mean and standard deviation\n",
        "\n",
        "X_train = scaler.transform(X_train) # Perform transformation: x = (x-mean)/std\n",
        "X_test = scaler.transform(X_test)\n",
        "print('X_train: \\n', X_train[:5]) # first 5 samples of X_train\n",
        "print('Y_train: \\n', Y_train[:5])\n"
      ],
      "execution_count": null,
      "outputs": [
        {
          "output_type": "stream",
          "text": [
            "X_train: \n",
            " [[ 0.83323818 -0.27219949  0.37797324  0.19490068]\n",
            " [ 0.95797443 -0.03754476  1.07648641  0.85334891]\n",
            " [-0.91306938 -1.68012791 -0.20412107 -0.20016826]\n",
            " [ 0.70850192  0.66641945  1.36753356  1.77517644]\n",
            " [-0.28938811 -1.21081844  0.20334495  0.19490068]]\n",
            "Y_train: \n",
            " [[0. 1. 0.]\n",
            " [0. 0. 1.]\n",
            " [0. 1. 0.]\n",
            " [0. 0. 1.]\n",
            " [0. 1. 0.]]\n"
          ],
          "name": "stdout"
        }
      ]
    },
    {
      "cell_type": "code",
      "metadata": {
        "id": "W16gQ2Mv_x7V",
        "outputId": "ec242f26-a795-4f54-c0d2-8bf7eaf55b01",
        "colab": {
          "base_uri": "https://localhost:8080/",
          "height": 68
        }
      },
      "source": [
        "# define function to add column of 1's\n",
        "addlcol = lambda x: np.concatenate((x, np.ones((x.shape[0], 1))), axis = 1)\n",
        "\n",
        "Ns, Nx = X_train.shape\n",
        "print('Ns: ', Ns, 'Nx: ', Nx)\n",
        "\n",
        "def find_weights(A, Y):\n",
        "    print(A.shape)\n",
        "    \n",
        "    print(Y.shape)\n",
        "\n",
        "    w = np.linalg.inv(A.T.dot(A)).dot(A.T.dot(Y))\n",
        "    return w\n",
        "\n",
        "A = addlcol(X_train)\n",
        "Y = Y_train\n",
        "w = find_weights(A, Y)\n"
      ],
      "execution_count": null,
      "outputs": [
        {
          "output_type": "stream",
          "text": [
            "Ns:  75 Nx:  4\n",
            "(75, 5)\n",
            "(75, 3)\n"
          ],
          "name": "stdout"
        }
      ]
    },
    {
      "cell_type": "code",
      "metadata": {
        "id": "w5Cekodu_5dx",
        "outputId": "e82bdb31-2d5e-4956-adc0-a66dba07fa42",
        "colab": {
          "base_uri": "https://localhost:8080/",
          "height": 153
        }
      },
      "source": [
        "def evaluate(X, W, Yd, transform_X_a):\n",
        "  a = transform_X_a(X)\n",
        "  yd = np.argmax(Yd, axis = 1)\n",
        "  y = np.argmax(a.dot(W), axis = 1)\n",
        "  print('Confusion Matrix:')\n",
        "  print(confusion_matrix(yd, y))\n",
        "\n",
        "\n",
        "evaluate(X_train, w, Y_train, addlcol)\n",
        "evaluate(X_test, w, Y_test, addlcol)"
      ],
      "execution_count": null,
      "outputs": [
        {
          "output_type": "stream",
          "text": [
            "Confusion Matrix:\n",
            "[[25  1  0]\n",
            " [ 0 20  6]\n",
            " [ 0  4 19]]\n",
            "Confusion Matrix:\n",
            "[[24  0  0]\n",
            " [ 0 14 10]\n",
            " [ 0  8 19]]\n"
          ],
          "name": "stdout"
        }
      ]
    },
    {
      "cell_type": "code",
      "metadata": {
        "id": "qPBIiiexAGUH"
      },
      "source": [
        ""
      ],
      "execution_count": null,
      "outputs": []
    }
  ]
}