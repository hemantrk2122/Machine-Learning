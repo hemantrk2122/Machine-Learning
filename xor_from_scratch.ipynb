{
  "nbformat": 4,
  "nbformat_minor": 0,
  "metadata": {
    "colab": {
      "name": "xor_from_scratch.ipynb",
      "provenance": [],
      "collapsed_sections": [],
      "include_colab_link": true
    },
    "language_info": {
      "codemirror_mode": {
        "name": "ipython",
        "version": 3
      },
      "file_extension": ".py",
      "mimetype": "text/x-python",
      "name": "python",
      "nbconvert_exporter": "python",
      "pygments_lexer": "ipython3",
      "version": "3.7.1"
    },
    "kernelspec": {
      "display_name": "Python 3",
      "language": "python",
      "name": "python3"
    }
  },
  "cells": [
    {
      "cell_type": "markdown",
      "metadata": {
        "id": "view-in-github",
        "colab_type": "text"
      },
      "source": [
        "<a href=\"https://colab.research.google.com/github/hemantrk2122/Machine-Learning/blob/main/xor_from_scratch.ipynb\" target=\"_parent\"><img src=\"https://colab.research.google.com/assets/colab-badge.svg\" alt=\"Open In Colab\"/></a>"
      ]
    },
    {
      "cell_type": "markdown",
      "metadata": {
        "id": "iaRaG4rBnao6"
      },
      "source": [
        "## Implementing Back-propagation Algorithm with XOR data from scratch\n",
        "\n",
        "### XOR data: <br>\n",
        "**$ x_0 \\ x_1 \\ y$** <br>\n",
        "$0 \\ \\ \\  0 \\ \\ \\  0$ <br>\n",
        "$0 \\ \\ \\  1 \\ \\ \\  1$ <br>\n",
        "$1 \\ \\ \\  0 \\ \\ \\  1$<br>\n",
        "$1 \\ \\ \\  1 \\ \\ \\  0$<br>\n",
        "\n",
        "--------\n"
      ]
    },
    {
      "cell_type": "markdown",
      "metadata": {
        "id": "bt1WHBN4nao-"
      },
      "source": [
        "### Network Architecture\n",
        "\n",
        "<img src=\"https://drive.google.com/uc?id=14Iw0rCAFHPsQjn93tFBwwnaoV0CuQc-3\" title=\"\" align=\"center\" width=\"50%\" height=\"50%\"/>"
      ]
    },
    {
      "cell_type": "markdown",
      "metadata": {
        "id": "PeYCJWnHnapA"
      },
      "source": [
        "### Importing Libraries"
      ]
    },
    {
      "cell_type": "code",
      "metadata": {
        "id": "GIG7kaSMnapD"
      },
      "source": [
        "import numpy as np\n",
        "import matplotlib.pyplot as plt"
      ],
      "execution_count": null,
      "outputs": []
    },
    {
      "cell_type": "markdown",
      "metadata": {
        "id": "5yLHk34rnapL"
      },
      "source": [
        "### Data"
      ]
    },
    {
      "cell_type": "code",
      "metadata": {
        "id": "g9zjK7cpnapN"
      },
      "source": [
        "# 0 is replaced by 0.1, 1 is replaced by 0.9\n",
        "# 0.9 as bias \n",
        "X = np.array([[0.1, 0.1, 0.9], [0.1, 0.9, 0.9],[0.9, 0.1,0.9], [0.9, 0.9,0.9]])\n",
        "\n",
        "Y = np.array([[0.1], [0.9],[0.9], [0.1]])\n",
        "\n"
      ],
      "execution_count": null,
      "outputs": []
    },
    {
      "cell_type": "markdown",
      "metadata": {
        "id": "8d4tBfbOnapR"
      },
      "source": [
        "### Activation function and its derivative"
      ]
    },
    {
      "cell_type": "code",
      "metadata": {
        "id": "Ql66QhQSnapS"
      },
      "source": [
        "def sigmoid (x):\n",
        "    y = 1/(1 + np.exp(-x))\n",
        "    return y\n",
        "   \n",
        "def sigmoid_derivative(x):\n",
        "    return x * (1 - x)\n",
        "   "
      ],
      "execution_count": null,
      "outputs": []
    },
    {
      "cell_type": "markdown",
      "metadata": {
        "id": "exiX5nLGnapW"
      },
      "source": [
        "### Initializing weights\n",
        "\n"
      ]
    },
    {
      "cell_type": "markdown",
      "metadata": {
        "id": "dA83hvRAnapX"
      },
      "source": [
        "<img src=\"https://drive.google.com/uc?id=14Iw0rCAFHPsQjn93tFBwwnaoV0CuQc-3\" title=\"\" align=\"center\" width=\"50%\" height=\"50%\"/>"
      ]
    },
    {
      "cell_type": "code",
      "metadata": {
        "id": "lB0VdwF6napY"
      },
      "source": [
        "ni = 3\n",
        "nh = 4\n",
        "no = 1\n",
        "\n",
        "weights1   = (2*np.random.random((nh,ni)) - 1)*0.01/2\n",
        "weights2   = (2*np.random.random((no,nh)) - 1)*0.01/2\n",
        "eta = 1\n",
        "\n",
        "\n",
        "        "
      ],
      "execution_count": null,
      "outputs": []
    },
    {
      "cell_type": "markdown",
      "metadata": {
        "id": "7hnxMg1Dnapb"
      },
      "source": [
        "### Training the Network"
      ]
    },
    {
      "cell_type": "code",
      "metadata": {
        "id": "hE-NcjTHnapc"
      },
      "source": [
        "eta = 1\n",
        "for epochs in range(5000):\n",
        "    for s in range(X.shape[0]):\n",
        "        ## forward propagation\n",
        "        hidden = sigmoid(np.dot(weights1, X[s])).reshape(-1, 1)\n",
        "        y = sigmoid(np.dot(weights2, hidden)).reshape(-1,1)\n",
        "        \n",
        "        ## backward propagation\n",
        "        delta_weights2 = np.dot(((Y[s] - y) * sigmoid_derivative(y)),hidden.reshape(-1, 1).T)\n",
        "        delta_weights1 = np.dot(((Y[s]-y) * sigmoid_derivative(y)*weights2.T * sigmoid_derivative(hidden)), X[s].reshape(1,3))\n",
        "\n",
        "        ## update weights\n",
        "        weights1 = weights1 + eta*delta_weights1\n",
        "        weights2 = weights2 + eta*delta_weights2"
      ],
      "execution_count": null,
      "outputs": []
    },
    {
      "cell_type": "markdown",
      "metadata": {
        "id": "d4BgKr-qnapf"
      },
      "source": [
        "### Testing the Network"
      ]
    },
    {
      "cell_type": "code",
      "metadata": {
        "id": "H38sS4cznaph",
        "outputId": "f1332998-14d8-4839-872a-4a0e78e64727",
        "colab": {
          "base_uri": "https://localhost:8080/",
          "height": 101
        }
      },
      "source": [
        "error = 0\n",
        "\n",
        "for s in range(X.shape[0]):\n",
        "    hidden = sigmoid(np.dot(weights1, X[s])).reshape(-1, 1)\n",
        "    y = sigmoid(np.dot(weights2, hidden)).reshape((-1,1))\n",
        "    \n",
        "    print('x:',X[s,:-1],' y:',y)\n",
        "    error += (Y[s] - y).dot(Y[s] - y)\n",
        "\n",
        "print('error:',error/4)"
      ],
      "execution_count": null,
      "outputs": [
        {
          "output_type": "stream",
          "text": [
            "x: [0.1 0.1]  y: [[0.10000681]]\n",
            "x: [0.1 0.9]  y: [[0.89993897]]\n",
            "x: [0.9 0.1]  y: [[0.89992938]]\n",
            "x: [0.9 0.9]  y: [[0.10022913]]\n",
            "error: [[1.53147992e-08]]\n"
          ],
          "name": "stdout"
        }
      ]
    },
    {
      "cell_type": "code",
      "metadata": {
        "id": "MXS0O5Sfnapp"
      },
      "source": [
        ""
      ],
      "execution_count": null,
      "outputs": []
    }
  ]
}